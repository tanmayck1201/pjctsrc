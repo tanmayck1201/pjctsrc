{
 "cells": [
  {
   "cell_type": "markdown",
   "metadata": {},
   "source": [
    "# Imports"
   ]
  },
  {
   "cell_type": "code",
   "execution_count": 1,
   "metadata": {},
   "outputs": [],
   "source": [
    "import numpy as np\n",
    "import itertools\n",
    "from glob import glob\n",
    "import torch.nn as nn\n",
    "import torch\n",
    "import matplotlib.pyplot as plt\n",
    "from scipy.special import expit\n",
    "import sys\n",
    "from blazeface import FaceExtractor, BlazeFace, VideoReader\n",
    "from architectures import fornet\n",
    "from architectures.fornet import FeatureExtractor\n",
    "from utils import utils\n",
    "from utils.utils import get_transformer\n",
    "from utils.utils import plot_confusion_matrix\n",
    "import pandas as pd\n",
    "from tqdm.notebook import tqdm\n",
    "import pprint\n",
    "import cv2\n",
    "sys.path.append('..')"
   ]
  },
  {
   "cell_type": "markdown",
   "metadata": {},
   "source": [
    "# Select architecture, device, face policy, face size, frames per video, dataset and provide model path"
   ]
  },
  {
   "cell_type": "code",
   "execution_count": 2,
   "metadata": {
    "tags": []
   },
   "outputs": [],
   "source": [
    "net_choices = ['TimmV2', 'TimmV2ST', 'ViT', 'ViTST']\n",
    "choices = {'v2': 'TimmV2', 'v2st': 'TimmV2ST', 'vit': 'ViT', 'vitst': 'ViTST'}\n",
    "device = torch.device(\n",
    "    'cuda:0') if torch.cuda.is_available() else torch.device('cpu')\n",
    "face_policy = 'scale'\n",
    "face_size = 224\n",
    "frames_per_video = 32  # -1 means entire video\n",
    "\n",
    "dataset = \"ffpp\""
   ]
  },
  {
   "cell_type": "markdown",
   "metadata": {},
   "source": [
    "# Provide path to video files"
   ]
  },
  {
   "cell_type": "code",
   "execution_count": 3,
   "metadata": {},
   "outputs": [],
   "source": [
    "def count_frames(path):\n",
    "    video = cv2.VideoCapture(path)\n",
    "    return int(video.get(cv2.CAP_PROP_FRAME_COUNT))"
   ]
  },
  {
   "cell_type": "code",
   "execution_count": 4,
   "metadata": {},
   "outputs": [
    {
     "name": "stdout",
     "output_type": "stream",
     "text": [
      "['043.mp4', '091.mp4', '150.mp4', '250.mp4', '377.mp4', '488.mp4', '522.mp4', '666.mp4', '777.mp4', '881.mp4', '992.mp4']\n",
      "[0, 1]\n",
      "[495, 639, 456, 564, 398, 518, 713, 383, 325, 638, 718]\n"
     ]
    }
   ],
   "source": [
    "import os.path\n",
    "\n",
    "video_paths = glob('../sample_videos/ffpp/real/**/*.mp4', recursive=True)\n",
    "file_names = []\n",
    "fpv = []\n",
    "for i in video_paths:\n",
    "    file_names.append(os.path.basename(i))\n",
    "    fpv.append( count_frames(i)  )\n",
    "file_names.sort()\n",
    "len(file_names)\n",
    "print(file_names)\n",
    "\n",
    "video_idxs = [0,1]\n",
    "print(video_idxs)\n",
    "\n",
    "input_dir = '../sample_videos/ffpp/real/'\n",
    "print(fpv)\n"
   ]
  },
  {
   "cell_type": "markdown",
   "metadata": {},
   "source": [
    "# Ensemble"
   ]
  },
  {
   "cell_type": "code",
   "execution_count": 5,
   "metadata": {},
   "outputs": [],
   "source": [
    "class Ensemble(nn.Module):\n",
    "    def __init__(self, models):\n",
    "        super(Ensemble, self).__init__()\n",
    "        self.models = nn.ModuleList(models)\n",
    "        self.weightage = [1, 1, 1, 1]\n",
    "\n",
    "    def forward(self, x):\n",
    "        scores = {}\n",
    "        preds = {}\n",
    "        for i, model in enumerate(self.models):\n",
    "            pred = model(x.to(device)).cpu().numpy().flatten()\n",
    "            score = expit(pred.mean())\n",
    "            scores[model.__class__.__name__] = score\n",
    "            preds[model.__class__.__name__] = expit(pred)\n",
    "        return scores,preds\n"
   ]
  },
  {
   "cell_type": "markdown",
   "metadata": {},
   "source": [
    "# Get path of all models to ensemble"
   ]
  },
  {
   "cell_type": "code",
   "execution_count": 6,
   "metadata": {},
   "outputs": [
    {
     "name": "stdout",
     "output_type": "stream",
     "text": [
      "['../models/celeb_vit.pth', '../models/celeb_v2.pth', '../models/celeb_v2st.pth', '../models/dfdc_v2.pth', '../models/dfdc_v2st.pth', '../models/ffpp_v2.pth', '../models/ffpp_v2st.pth', '../models/ffpp_vit.pth', '../models/ffpp_vitst.pth']\n"
     ]
    },
    {
     "data": {
      "text/plain": [
       "['../models/ffpp_v2.pth',\n",
       " '../models/ffpp_v2st.pth',\n",
       " '../models/ffpp_vit.pth',\n",
       " '../models/ffpp_vitst.pth']"
      ]
     },
     "execution_count": 6,
     "metadata": {},
     "output_type": "execute_result"
    }
   ],
   "source": [
    "model_paths = glob('../models/**/*.pth', recursive=True)\n",
    "print(model_paths)\n",
    "models_for_dataset = []\n",
    "for i in model_paths:\n",
    "    if(i.split(\"/\")[-1].startswith(dataset)):\n",
    "        models_for_dataset.append(i)\n",
    "models_for_dataset\n",
    "model_paths = models_for_dataset\n",
    "model_paths"
   ]
  },
  {
   "cell_type": "markdown",
   "metadata": {},
   "source": [
    "# Load weights for all models"
   ]
  },
  {
   "cell_type": "code",
   "execution_count": 7,
   "metadata": {},
   "outputs": [
    {
     "data": {
      "application/vnd.jupyter.widget-view+json": {
       "model_id": "f26e80f5e4b14392997f6f75c08d00bc",
       "version_major": 2,
       "version_minor": 0
      },
      "text/plain": [
       "Loading Models:   0%|          | 0/4 [00:00<?, ?it/s]"
      ]
     },
     "metadata": {},
     "output_type": "display_data"
    }
   ],
   "source": [
    "model_list = []\n",
    "lim = 0\n",
    "for i in tqdm(model_paths, desc=\"Loading Models\"):\n",
    "    net_name = choices[i.split(\"/\")[2].split(\"_\")[1].split(\".\")[0]]\n",
    "    net_class = getattr(fornet, net_name)\n",
    "    model: FeatureExtractor = net_class().eval().to(device)\n",
    "    model_path = '../models/' + dataset + \\\n",
    "        '_' + i.split('/')[2].split('_')[1]\n",
    "    model.load_state_dict(torch.load(\n",
    "        model_path, map_location='cpu')['net'])\n",
    "    model_list.append(model)\n"
   ]
  },
  {
   "cell_type": "code",
   "execution_count": 8,
   "metadata": {},
   "outputs": [
    {
     "data": {
      "text/plain": [
       "4"
      ]
     },
     "execution_count": 8,
     "metadata": {},
     "output_type": "execute_result"
    }
   ],
   "source": [
    "len(model_list)"
   ]
  },
  {
   "cell_type": "markdown",
   "metadata": {},
   "source": [
    "# Extract faces"
   ]
  },
  {
   "cell_type": "code",
   "execution_count": 6,
   "metadata": {},
   "outputs": [],
   "source": [
    "transf = utils.get_transformer(\n",
    "    face_policy, face_size, model_list[0].get_normalizer(), train=False)\n",
    "facedet = BlazeFace().to(device)\n",
    "facedet.load_weights(\"blazeface/blazeface.pth\")\n",
    "facedet.load_anchors(\"blazeface/anchors.npy\")\n",
    "videoreader = VideoReader(verbose=False)\n",
    "\n",
    "\n",
    "def video_read_fn(x): return videoreader.read_frames(\n",
    "    x, num_frames=frames_per_video)\n",
    "\n",
    "\n",
    "face_extractor = FaceExtractor(video_read_fn=video_read_fn, facedet=facedet)\n"
   ]
  },
  {
   "cell_type": "code",
   "execution_count": 9,
   "metadata": {},
   "outputs": [
    {
     "data": {
      "application/vnd.jupyter.widget-view+json": {
       "model_id": "da1fb2b88b014f988005ef2817a224a2",
       "version_major": 2,
       "version_minor": 0
      },
      "text/plain": [
       "Extracting faces:   0%|          | 0/2 [00:00<?, ?it/s]"
      ]
     },
     "metadata": {},
     "output_type": "display_data"
    }
   ],
   "source": [
    "faces = face_extractor.process_videos(\n",
    "    input_dir=input_dir, filenames=file_names, video_idxs=video_idxs)\n",
    "total_videos = len(video_idxs)\n",
    "\n",
    "\n",
    "faces_frames = [frames_per_video *\n",
    "                x for x in range(0, total_videos+1)]   # [0,32,64,96]\n",
    "\n",
    "faces_hc = torch.stack([transf(image=frame['faces'][0])['image']\n",
    "                       for frame in faces if len(frame['faces'])])\n"
   ]
  },
  {
   "cell_type": "markdown",
   "metadata": {},
   "source": [
    "# Make predictions"
   ]
  },
  {
   "cell_type": "code",
   "execution_count": 7,
   "metadata": {},
   "outputs": [],
   "source": [
    "ensemble_models = Ensemble(model_list).eval().to(device)"
   ]
  },
  {
   "cell_type": "code",
   "execution_count": 11,
   "metadata": {},
   "outputs": [
    {
     "data": {
      "application/vnd.jupyter.widget-view+json": {
       "model_id": "3d1e6e55e2d94eceb5b86fbe1102ef29",
       "version_major": 2,
       "version_minor": 0
      },
      "text/plain": [
       "Predicting::   0%|          | 0/2 [00:00<?, ?it/s]"
      ]
     },
     "metadata": {},
     "output_type": "display_data"
    }
   ],
   "source": [
    "predictions = {}\n",
    "with torch.no_grad():\n",
    "    for i in tqdm(range(0, total_videos),desc=\"Predicting:\"):  # (0,3) i.e 0,1,2\n",
    "        score,preds = ensemble_models(faces_hc[faces_frames[i]:faces_frames[i+1]])\n",
    "        predictions[input_dir+file_names[video_idxs[i]]] = [score,preds, {'ensemble_score': sum(score.values())/(len(model_list))}, {\n",
    "            'predicted_class': 'real' if sum(score.values())/(len(model_list)) < 0.3 else 'fake', 'true_class': input_dir.split(\"/\")[3]}]\n",
    "\n"
   ]
  },
  {
   "cell_type": "code",
   "execution_count": 12,
   "metadata": {},
   "outputs": [
    {
     "name": "stdout",
     "output_type": "stream",
     "text": [
      "{'../sample_videos/ffpp/real/043.mp4': [{'TimmV2': 0.012232197,\n",
      "                                         'TimmV2ST': 0.61918104,\n",
      "                                         'ViT': 0.14586504,\n",
      "                                         'ViTST': 0.16916572},\n",
      "                                        {'TimmV2': array([0.00872216, 0.01763926, 0.02246069, 0.01132695, 0.03835763,\n",
      "       0.0131454 , 0.11518755, 0.00667132, 0.01133874, 0.01895693,\n",
      "       0.00206885, 0.00480219, 0.00062077, 0.00691775, 0.00430566,\n",
      "       0.00380525, 0.00092641, 0.01116817, 0.07216255, 0.09467141,\n",
      "       0.00591475, 0.04562845, 0.01535223, 0.03690802, 0.0389526 ,\n",
      "       0.01133066, 0.01979582, 0.06682755, 0.01950602, 0.05097976,\n",
      "       0.00160344, 0.0018279 ], dtype=float32),\n",
      "                                         'TimmV2ST': array([0.4990548 , 0.38916123, 0.7457302 , 0.67451847, 0.5301581 ,\n",
      "       0.81691307, 0.6977466 , 0.40923777, 0.51021624, 0.8374992 ,\n",
      "       0.30644032, 0.795654  , 0.27799407, 0.65075934, 0.71774673,\n",
      "       0.7161587 , 0.25499865, 0.4114892 , 0.8234943 , 0.82831436,\n",
      "       0.35236698, 0.89684206, 0.19344026, 0.17081243, 0.6980605 ,\n",
      "       0.8273754 , 0.8212399 , 0.88731605, 0.9337796 , 0.7259483 ,\n",
      "       0.19495586, 0.48561406], dtype=float32),\n",
      "                                         'ViT': array([0.02773487, 0.01401115, 0.63094515, 0.599878  , 0.3246132 ,\n",
      "       0.07829965, 0.36391762, 0.10086134, 0.1875682 , 0.11991836,\n",
      "       0.23514661, 0.0653054 , 0.03179489, 0.34832165, 0.03682511,\n",
      "       0.15906806, 0.8723015 , 0.29163304, 0.2722573 , 0.05506617,\n",
      "       0.05764351, 0.01866971, 0.02472242, 0.02582176, 0.1274362 ,\n",
      "       0.05781652, 0.0473922 , 0.47048077, 0.39097232, 0.37206325,\n",
      "       0.1913561 , 0.40690023], dtype=float32),\n",
      "                                         'ViTST': array([0.03165095, 0.03295471, 0.19319876, 0.77683973, 0.4556382 ,\n",
      "       0.12018115, 0.07471852, 0.05339048, 0.11872997, 0.09832646,\n",
      "       0.0442314 , 0.11182516, 0.16277592, 0.6377353 , 0.17871428,\n",
      "       0.20853211, 0.2809715 , 0.5047947 , 0.4185147 , 0.07422614,\n",
      "       0.12018778, 0.06211685, 0.08200768, 0.08919311, 0.07351991,\n",
      "       0.13011011, 0.0546464 , 0.24548076, 0.70753765, 0.36162606,\n",
      "       0.16933711, 0.45238596], dtype=float32)},\n",
      "                                        {'ensemble_score': 0.23661099700257182},\n",
      "                                        {'predicted_class': 'real',\n",
      "                                         'true_class': 'real'}],\n",
      " '../sample_videos/ffpp/real/091.mp4': [{'TimmV2': 0.0060049077,\n",
      "                                         'TimmV2ST': 0.07242383,\n",
      "                                         'ViT': 0.007400226,\n",
      "                                         'ViTST': 0.020096418},\n",
      "                                        {'TimmV2': array([0.00669596, 0.01600008, 0.00614436, 0.00555989, 0.00994958,\n",
      "       0.00819115, 0.00424174, 0.00562294, 0.0065126 , 0.00646228,\n",
      "       0.01485843, 0.00316149, 0.00205463, 0.00614114, 0.00776666,\n",
      "       0.00871443, 0.02417853, 0.00317632, 0.00856831, 0.00305019,\n",
      "       0.00388462, 0.00704461, 0.00102011, 0.00079328, 0.00282903,\n",
      "       0.00342236, 0.00426588, 0.01319993, 0.02946681, 0.00344827,\n",
      "       0.02554613, 0.01007028], dtype=float32),\n",
      "                                         'TimmV2ST': array([0.1604439 , 0.05245147, 0.05436828, 0.0416237 , 0.19731379,\n",
      "       0.08235116, 0.03951321, 0.05721328, 0.02997302, 0.07891611,\n",
      "       0.03417044, 0.02930368, 0.04070121, 0.05899001, 0.08478869,\n",
      "       0.04096748, 0.04354064, 0.03807941, 0.04040617, 0.10230298,\n",
      "       0.05952287, 0.08041746, 0.10563913, 0.11035872, 0.10059146,\n",
      "       0.08562938, 0.05604148, 0.11538875, 0.24071893, 0.12839906,\n",
      "       0.30304793, 0.0678308 ], dtype=float32),\n",
      "                                         'ViT': array([0.00187013, 0.00218986, 0.00158507, 0.00614768, 0.00542139,\n",
      "       0.01135541, 0.0022816 , 0.00303027, 0.00386651, 0.00358516,\n",
      "       0.00825989, 0.0028806 , 0.00329399, 0.01816919, 0.02963386,\n",
      "       0.00241493, 0.00152568, 0.3052573 , 0.01288514, 0.00361156,\n",
      "       0.00114313, 0.00278076, 0.00250385, 0.00250683, 0.0015248 ,\n",
      "       0.00654558, 0.00282274, 0.25625038, 0.08090034, 0.00671795,\n",
      "       0.20919847, 0.23927999], dtype=float32),\n",
      "                                         'ViTST': array([0.0101632 , 0.00849138, 0.00656375, 0.01011525, 0.0149502 ,\n",
      "       0.03340577, 0.01987167, 0.03160178, 0.01769096, 0.01629255,\n",
      "       0.00942025, 0.01759659, 0.0196574 , 0.02749974, 0.02250735,\n",
      "       0.01148024, 0.01037023, 0.02961371, 0.03924985, 0.02057485,\n",
      "       0.00565809, 0.01023339, 0.02108554, 0.00731999, 0.00629198,\n",
      "       0.01334628, 0.00740245, 0.09560911, 0.42976308, 0.03022528,\n",
      "       0.23875393, 0.04522868], dtype=float32)},\n",
      "                                        {'ensemble_score': 0.02648134541232139},\n",
      "                                        {'predicted_class': 'real',\n",
      "                                         'true_class': 'real'}]}\n"
     ]
    }
   ],
   "source": [
    "pprint.pprint(predictions)"
   ]
  },
  {
   "cell_type": "markdown",
   "metadata": {},
   "source": [
    "# Analysis"
   ]
  },
  {
   "cell_type": "code",
   "execution_count": 72,
   "metadata": {},
   "outputs": [
    {
     "name": "stdout",
     "output_type": "stream",
     "text": [
      "['real', 'real']\n",
      "['real', 'real']\n"
     ]
    }
   ],
   "source": [
    "pclass = []\n",
    "tclass = []\n",
    "res = []  # [   [predicted_class,true_class],    [predicted_class,true_class]     ....  ]\n",
    "for preds in predictions:\n",
    "    predicted_class = predictions[preds][-1]['predicted_class']\n",
    "    true_class = predictions[preds][-1]['true_class']\n",
    "    res.append([predicted_class, true_class])\n",
    "    pclass.append(predicted_class)\n",
    "    tclass.append(true_class)\n",
    "print(pclass)\n",
    "print(tclass)"
   ]
  },
  {
   "cell_type": "code",
   "execution_count": 73,
   "metadata": {},
   "outputs": [],
   "source": [
    "for i in range(0, len(pclass)):\n",
    "    if(pclass[i] == 'real'):\n",
    "        pclass[i] = 0\n",
    "    elif(pclass[i] == 'fake'):\n",
    "        pclass[i] = 1\n",
    "\n",
    "pclass = torch.Tensor(pclass)\n",
    "\n",
    "for i in range(0, len(tclass)):\n",
    "    if(tclass[i] == 'real'):\n",
    "        tclass[i] = 0\n",
    "    elif(tclass[i] == 'fake'):\n",
    "        tclass[i] = 1\n",
    "tclass = torch.Tensor(tclass)\n"
   ]
  },
  {
   "cell_type": "code",
   "execution_count": 74,
   "metadata": {},
   "outputs": [],
   "source": [
    "stacked = torch.stack((tclass, pclass), dim=1)\n"
   ]
  },
  {
   "cell_type": "code",
   "execution_count": 75,
   "metadata": {},
   "outputs": [
    {
     "data": {
      "text/plain": [
       "array([[2, 0],\n",
       "       [0, 0]])"
      ]
     },
     "execution_count": 75,
     "metadata": {},
     "output_type": "execute_result"
    }
   ],
   "source": [
    "cmt = torch.zeros(2, 2, dtype=torch.int64)\n",
    "for p in stacked:\n",
    "    tl, pl = p.tolist()\n",
    "    cmt[int(tl), int(pl)] = cmt[int(tl), int(pl)] + 1\n",
    "cmt = cmt.detach().cpu().numpy()\n",
    "cmt\n"
   ]
  },
  {
   "cell_type": "code",
   "execution_count": 76,
   "metadata": {},
   "outputs": [
    {
     "name": "stdout",
     "output_type": "stream",
     "text": [
      "Confusion matrix, without normalization\n",
      "[[2 0]\n",
      " [0 0]]\n"
     ]
    },
    {
     "data": {
      "image/png": "[encoded data removed]",
      "text/plain": [
       "<Figure size 288x288 with 2 Axes>"
      ]
     },
     "metadata": {
      "needs_background": "light"
     },
     "output_type": "display_data"
    }
   ],
   "source": [
    "names = ('real', 'fake')\n",
    "plt.figure(figsize=(4, 4))\n",
    "plot_confusion_matrix(cmt, names)\n"
   ]
  },
  {
   "cell_type": "code",
   "execution_count": 77,
   "metadata": {},
   "outputs": [],
   "source": [
    "data = {'video_path': [x for x in predictions.keys()],\n",
    "       'prediction':  pclass   }   \n",
    "df = pd.DataFrame(data)\n",
    "df.to_csv('predictions.csv')"
   ]
  },
  {
   "cell_type": "markdown",
   "metadata": {},
   "source": [
    "# Save video by annotating frames with frame-level score predictions"
   ]
  },
  {
   "cell_type": "code",
   "execution_count": null,
   "metadata": {},
   "outputs": [],
   "source": [
    "video_paths = glob('../sample_videos/ffpp/real/**/*.mp4', recursive=True)"
   ]
  },
  {
   "cell_type": "code",
   "execution_count": 11,
   "metadata": {},
   "outputs": [],
   "source": [
    "video_idxs = [2,5]"
   ]
  },
  {
   "cell_type": "code",
   "execution_count": 13,
   "metadata": {},
   "outputs": [],
   "source": [
    "transf = utils.get_transformer(\n",
    "    face_policy, face_size, model_list[0].get_normalizer(), train=False)\n",
    "facedet = BlazeFace().to(device)\n",
    "facedet.load_weights(\"blazeface/blazeface.pth\")\n",
    "facedet.load_anchors(\"blazeface/anchors.npy\")\n",
    "videoreader = VideoReader(verbose=False)"
   ]
  },
  {
   "cell_type": "code",
   "execution_count": 15,
   "metadata": {},
   "outputs": [],
   "source": [
    "ensemble_models = Ensemble(model_list).eval().to(device)"
   ]
  },
  {
   "cell_type": "code",
   "execution_count": 16,
   "metadata": {},
   "outputs": [
    {
     "data": {
      "application/vnd.jupyter.widget-view+json": {
       "model_id": "d5fd74866f7d475f8844d3474d63a45e",
       "version_major": 2,
       "version_minor": 0
      },
      "text/plain": [
       "Extracting faces:   0%|          | 0/1 [00:00<?, ?it/s]"
      ]
     },
     "metadata": {},
     "output_type": "display_data"
    },
    {
     "data": {
      "application/vnd.jupyter.widget-view+json": {
       "model_id": "2f7f84f7890b40478602c0904604a14f",
       "version_major": 2,
       "version_minor": 0
      },
      "text/plain": [
       "Extracting faces:   0%|          | 0/1 [00:00<?, ?it/s]"
      ]
     },
     "metadata": {},
     "output_type": "display_data"
    }
   ],
   "source": [
    "# extract faces:\n",
    "predictions = {}\n",
    "with torch.no_grad():\n",
    "    for a,i in enumerate(fpv):\n",
    "        if(a in video_idxs):\n",
    "            def video_read_fn(x): return videoreader.read_frames(\n",
    "                x, num_frames=i)\n",
    "            face_extractor = FaceExtractor(video_read_fn=video_read_fn, facedet=facedet)\n",
    "            faces = face_extractor.process_video(video_paths[a])\n",
    "            faces_hc = torch.stack([transf(image=frame['faces'][0])['image']\n",
    "                               for frame in faces if len(frame['faces'])])\n",
    "            score,preds = ensemble_models(faces_hc[0:i])\n",
    "            predictions[video_paths[a]] = [score,preds,faces, {'ensemble_score': sum(score.values())/(len(model_list))}, {\n",
    "                    'predicted_class': 'real' if sum(score.values())/(len(model_list)) < 0.3 else 'fake', 'true_class': input_dir.split(\"/\")[3]}]"
   ]
  },
  {
   "cell_type": "code",
   "execution_count": 20,
   "metadata": {},
   "outputs": [],
   "source": [
    "op_path = 'output/'"
   ]
  },
  {
   "cell_type": "code",
   "execution_count": 46,
   "metadata": {},
   "outputs": [],
   "source": [
    "def numberWithoutRounding(num, precision=4):\n",
    "    [beforeDecimal, afterDecimal] = str(num).split('.')\n",
    "    return beforeDecimal + '.' + afterDecimal[0:precision]"
   ]
  },
  {
   "cell_type": "code",
   "execution_count": null,
   "metadata": {},
   "outputs": [],
   "source": [
    "for a,i in enumerate(fpv):\n",
    "    if(a in video_idxs):\n",
    "        frame_count = 0\n",
    "        face_count = 0\n",
    "        writer = None\n",
    "        success = True\n",
    "        vid = cv2.VideoCapture(video_paths[a])\n",
    "        while success:\n",
    "            success, img = vid.read()\n",
    "\n",
    "\n",
    "            if writer is None:\n",
    "                fourcc = cv2.VideoWriter_fourcc(*\"MJPG\")\n",
    "                writer = cv2.VideoWriter(op_path + os.path.basename(video_paths[a]).split(\".\")[0]+'.avi', fourcc, 20, (img.shape[1], img.shape[0]), True)\n",
    "\n",
    "            faces = predictions[video_paths[a]][2]\n",
    "            if(face_count==i):\n",
    "                break\n",
    "            if face_count < i and faces[face_count]['frame_idx'] == frame_count:\n",
    "        \n",
    "                if len(faces[face_count]['detections']) > 0:\n",
    "                    dect = faces[face_count]['detections'][0]\n",
    "\n",
    "                ymin, xmin, ymax, xmax = dect[0], dect[1], dect[2], dect[3]\n",
    "                num_models = len(model_list)\n",
    "                p = {} # contains frame level predictions for each model\n",
    "                for j in preds:\n",
    "                    p[j] = preds[j][face_count]\n",
    "                    \n",
    "                ensemble_pred_score = sum(p.values())/len(p)\n",
    "                \n",
    "\n",
    "                if ensemble_pred_score >= 0.3:\n",
    "                    text = 'Fake:' + numberWithoutRounding(ensemble_pred_score, precision=4)\n",
    "                    rgb = (0, 0, 255)\n",
    "\n",
    "                else:\n",
    "                    text = 'Real:' + numberWithoutRounding(ensemble_pred_score, precision=4)\n",
    "                    rgb = (0, 255, 0)\n",
    "\n",
    "                face_count += 1\n",
    "\n",
    "            cv2.rectangle(img, (xmin, ymin), (xmax, ymax), rgb, 2)\n",
    "            text_y = ymin - 15 if ymin - 15 > 15 else ymin + 15\n",
    "            cv2.putText(img, text, (int(xmin), int(text_y)), cv2.FONT_HERSHEY_SIMPLEX, 0.75, rgb, 2)\n",
    "            \n",
    "            #cv2.putText(img, t, (10,100), cv2.FONT_HERSHEY_SIMPLEX, 0.75, rgb, 2)\n",
    "            lbls = ['Model']\n",
    "            for n in p:\n",
    "                lbls.append(n)\n",
    "            h,w,c = img.shape\n",
    "            offset = 0\n",
    "            for vv,ll in enumerate(lbls):\n",
    "                if(ll == 'TimmV2'):\n",
    "                    lbls[vv] = 'V2'\n",
    "                elif(ll=='TimmV2ST'):\n",
    "                    lbls[vv] = 'V2ST'\n",
    "            for itr, word in enumerate(lbls):\n",
    "                offset += int(h / len(lbls)) - 10\n",
    "                cv2.putText(img, word, (20, offset), cv2.FONT_HERSHEY_SIMPLEX, 1, (0, 255, 0), 3)\n",
    "                \n",
    "            \n",
    "            lbls_frame_pred = []\n",
    "            for k in p:\n",
    "                lbls_frame_pred.append(p[k])\n",
    "            \n",
    "            lbls_frame_pred_round = ['Score']\n",
    "            for kk in lbls_frame_pred:\n",
    "                lbls_frame_pred_round.append(numberWithoutRounding(kk,4))\n",
    "    \n",
    "            offset = 0\n",
    "            for f, g in enumerate(lbls_frame_pred_round):\n",
    "                if(f==0):\n",
    "                    offset += int(h / len(lbls_frame_pred_round)) - 10\n",
    "                    cv2.putText(img, g, (130, offset), cv2.FONT_HERSHEY_SIMPLEX, 1, (0, 255, 0), 3)\n",
    "                    continue\n",
    "                offset += int(h / len(lbls_frame_pred_round)) - 10\n",
    "                if(float(g) >= 0.3):\n",
    "                    cv2.putText(img, g, (130, offset), cv2.FONT_HERSHEY_SIMPLEX, 1, (0, 0, 255), 3)\n",
    "                elif(float(g) < 0.3):\n",
    "                    cv2.putText(img, g, (130, offset), cv2.FONT_HERSHEY_SIMPLEX, 1, (0, 255, 0), 3)\n",
    "                \n",
    "            writer.write(img)\n",
    "            frame_count += 1\n",
    "\n",
    "        writer.release()\n"
   ]
  },
  {
   "cell_type": "code",
   "execution_count": null,
   "metadata": {},
   "outputs": [],
   "source": []
  }
 ],
 "metadata": {
  "interpreter": {
   "hash": "31f2aee4e71d21fbe5cf8b01ff0e069b9275f58929596ceb00d14d90e3e16cd6"
  },
  "kernelspec": {
   "display_name": "Python 3",
   "language": "python",
   "name": "python3"
  },
  "language_info": {
   "codemirror_mode": {
    "name": "ipython",
    "version": 3
   },
   "file_extension": ".py",
   "mimetype": "text/x-python",
   "name": "python",
   "nbconvert_exporter": "python",
   "pygments_lexer": "ipython3",
   "version": "3.6.9"
  }
 },
 "nbformat": 4,
 "nbformat_minor": 4
}
